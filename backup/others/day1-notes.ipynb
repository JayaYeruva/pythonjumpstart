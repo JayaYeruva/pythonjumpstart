{
 "metadata": {
  "name": "day1-notes"
 },
 "nbformat": 3,
 "nbformat_minor": 0,
 "worksheets": [
  {
   "cells": [
    {
     "cell_type": "code",
     "collapsed": false,
     "input": [
      "import math\n",
      "dir(math)\n",
      "math.pi"
     ],
     "language": "python",
     "metadata": {},
     "outputs": [
      {
       "output_type": "pyout",
       "prompt_number": 4,
       "text": [
        "3.141592653589793"
       ]
      }
     ],
     "prompt_number": 4
    },
    {
     "cell_type": "code",
     "collapsed": false,
     "input": [
      "#from module import item\n",
      "from math import pi\n",
      "pi"
     ],
     "language": "python",
     "metadata": {},
     "outputs": [
      {
       "output_type": "pyout",
       "prompt_number": 8,
       "text": [
        "3.141592653589793"
       ]
      }
     ],
     "prompt_number": 8
    },
    {
     "cell_type": "code",
     "collapsed": false,
     "input": [
      "print 1,2,3,4,5"
     ],
     "language": "python",
     "metadata": {},
     "outputs": [
      {
       "output_type": "stream",
       "stream": "stdout",
       "text": [
        "1 2 3 4 5\n"
       ]
      }
     ],
     "prompt_number": 10
    },
    {
     "cell_type": "code",
     "collapsed": false,
     "input": [
      "name = 'python'\n",
      "version = '2.7.3'\n",
      "\n",
      "#print 'I am %s' % name\n",
      "#print 'I am %s and %s' % name, % version) #syntax error\n",
      "#print 'I am %s and %s' % (name, version)\n",
      "\n",
      "name = 'pat'\n",
      "age = 3\n",
      "gender = 'male'\n",
      "\n",
      "s = \"%s is a %s and %d years old\" % (name, gender, age)\n",
      "#print s\n",
      "\n",
      "\n",
      "#print \"%s|%s|%s|\" % (name, gender, age)\n",
      "print \"%10s|%10s|%10.2f|\" % (name, gender, age)\n",
      "print \"%10s|%10s|%10.2f|\" % (name, gender, age)\n",
      "print \"%10s|%10s|%10.2f|\" % (name, gender, age)\n",
      "print \"%-10s%-10s%10s\" % (name+'|', gender+'|', str(age)+'|')"
     ],
     "language": "python",
     "metadata": {},
     "outputs": [
      {
       "output_type": "stream",
       "stream": "stdout",
       "text": [
        "       pat|      male|      3.00|\n",
        "       pat|      male|      3.00|\n",
        "       pat|      male|      3.00|\n",
        "pat|      male|             3|\n"
       ]
      }
     ],
     "prompt_number": 32
    },
    {
     "cell_type": "code",
     "collapsed": false,
     "input": [
      "'peter' + 'pan'\n",
      "'peter' * 3"
     ],
     "language": "python",
     "metadata": {},
     "outputs": [
      {
       "output_type": "pyout",
       "prompt_number": 35,
       "text": [
        "'peterpeterpeter'"
       ]
      }
     ],
     "prompt_number": 35
    },
    {
     "cell_type": "code",
     "collapsed": false,
     "input": [
      "n = 2 ** 63\n",
      "print n\n",
      "type(n)\n",
      "n = 15\n",
      "print n\n",
      "print hex(n)\n",
      "print bin(n)\n",
      "print oct(n)\n",
      "print int('f', 16)\n",
      "print int('1111', 2)\n",
      "print int('17', 8)"
     ],
     "language": "python",
     "metadata": {},
     "outputs": [
      {
       "output_type": "stream",
       "stream": "stdout",
       "text": [
        "9223372036854775808\n",
        "15\n",
        "0xf\n",
        "0b1111\n",
        "017\n",
        "15\n",
        "15\n",
        "15\n"
       ]
      }
     ],
     "prompt_number": 48
    },
    {
     "cell_type": "code",
     "collapsed": false,
     "input": [
      "print 0.003\n",
      "print 3e-3"
     ],
     "language": "python",
     "metadata": {},
     "outputs": [
      {
       "output_type": "stream",
       "stream": "stdout",
       "text": [
        "0.003\n",
        "0.003\n"
       ]
      }
     ],
     "prompt_number": 49
    },
    {
     "cell_type": "code",
     "collapsed": false,
     "input": [
      "n = 4+3j\n",
      "print n.real\n",
      "print n.imag\n",
      "print n.conjugate()\n",
      "print type(n + n)\n",
      "print n  * n"
     ],
     "language": "python",
     "metadata": {},
     "outputs": [
      {
       "output_type": "stream",
       "stream": "stdout",
       "text": [
        "4.0\n",
        "3.0\n",
        "(4-3j)\n",
        "<type 'complex'>\n",
        "(7+24j)\n"
       ]
      }
     ],
     "prompt_number": 56
    },
    {
     "cell_type": "code",
     "collapsed": false,
     "input": [
      "print 5.8/2\n",
      "print 5.8//2  #floor division"
     ],
     "language": "python",
     "metadata": {},
     "outputs": [
      {
       "output_type": "stream",
       "stream": "stdout",
       "text": [
        "2.9\n",
        "2.0\n"
       ]
      }
     ],
     "prompt_number": 59
    },
    {
     "cell_type": "code",
     "collapsed": false,
     "input": [
      "not (1 != 2)"
     ],
     "language": "python",
     "metadata": {},
     "outputs": [
      {
       "output_type": "pyout",
       "prompt_number": 62,
       "text": [
        "False"
       ]
      }
     ],
     "prompt_number": 62
    },
    {
     "cell_type": "code",
     "collapsed": false,
     "input": [
      "# 6 ^ 2\n",
      "#  110\n",
      "#^ 010\n",
      "#  100\n",
      "print 6  ^ 2\n"
     ],
     "language": "python",
     "metadata": {},
     "outputs": [
      {
       "output_type": "stream",
       "stream": "stdout",
       "text": [
        "4\n"
       ]
      }
     ],
     "prompt_number": 67
    },
    {
     "cell_type": "code",
     "collapsed": false,
     "input": [
      "#right shift \n",
      "# 4 >> 1\n",
      "# 100 >> 1 =  10\n",
      "# \n",
      "# 4 << 1\n",
      "# 100 << 1 = 1000\n",
      "print 4 << 1"
     ],
     "language": "python",
     "metadata": {},
     "outputs": [
      {
       "output_type": "stream",
       "stream": "stdout",
       "text": [
        "8\n"
       ]
      }
     ],
     "prompt_number": 70
    },
    {
     "cell_type": "code",
     "collapsed": false,
     "input": [
      "#cmp\n",
      "cmp('bata', 'beta')"
     ],
     "language": "python",
     "metadata": {},
     "outputs": [
      {
       "output_type": "pyout",
       "prompt_number": 80,
       "text": [
        "-1"
       ]
      }
     ],
     "prompt_number": 80
    },
    {
     "cell_type": "code",
     "collapsed": false,
     "input": [
      "s = 'the python scripting'\n",
      "#membership test operator  (in), (not in)\n",
      "print 'zee' not in s"
     ],
     "language": "python",
     "metadata": {},
     "outputs": [
      {
       "output_type": "stream",
       "stream": "stdout",
       "text": [
        "True\n"
       ]
      }
     ],
     "prompt_number": 86
    },
    {
     "cell_type": "code",
     "collapsed": false,
     "input": [
      "n = 5\n",
      "#  ? : \n",
      "# true-block if test-condition else false-block\n",
      "res  = n ** 2 if n>5 else n ** 3\n",
      "print res"
     ],
     "language": "python",
     "metadata": {},
     "outputs": [
      {
       "output_type": "stream",
       "stream": "stdout",
       "text": [
        "125\n"
       ]
      }
     ],
     "prompt_number": 89
    },
    {
     "cell_type": "code",
     "collapsed": false,
     "input": [
      "a, b, c = 12, 4,10   #parallel or tuple assignment \n",
      "\n",
      "res = a if (a > b) and (a > c) else b if (b>a) and (b > c) else c\n",
      "print res"
     ],
     "language": "python",
     "metadata": {},
     "outputs": [
      {
       "output_type": "stream",
       "stream": "stdout",
       "text": [
        "12\n"
       ]
      }
     ],
     "prompt_number": 95
    },
    {
     "cell_type": "code",
     "collapsed": false,
     "input": [
      "s = 'python'\n",
      "#s[2] = 'T'\n",
      "print id(s)"
     ],
     "language": "python",
     "metadata": {},
     "outputs": [
      {
       "output_type": "stream",
       "stream": "stdout",
       "text": [
        "139781526088608\n"
       ]
      }
     ],
     "prompt_number": 99
    }
   ],
   "metadata": {}
  }
 ]
}