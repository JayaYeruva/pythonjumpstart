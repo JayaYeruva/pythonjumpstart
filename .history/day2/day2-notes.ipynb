{
 "metadata": {
  "name": "day2-notes"
 },
 "nbformat": 3,
 "nbformat_minor": 0,
 "worksheets": [
  {
   "cells": [
    {
     "cell_type": "code",
     "collapsed": false,
     "input": "#dict\nd = {}\nprint type(d)\nprint len(d)",
     "language": "python",
     "metadata": {},
     "outputs": [
      {
       "output_type": "stream",
       "stream": "stdout",
       "text": "<type 'dict'>\n0\n"
      }
     ],
     "prompt_number": 3
    },
    {
     "cell_type": "code",
     "collapsed": false,
     "input": "#to create lookup database\ninfo = {'name' : 'guido', 'author' : 'python', \n        'city' : 'neva valley', 'interest' : 'rock music'}\nprint info",
     "language": "python",
     "metadata": {},
     "outputs": [
      {
       "output_type": "stream",
       "stream": "stdout",
       "text": "{'city': 'neva valley', 'name': 'guido', 'interest': 'rock music', 'author': 'python'}\n"
      }
     ],
     "prompt_number": 4
    },
    {
     "cell_type": "code",
     "collapsed": false,
     "input": "info = {'name' : 'guido', 'author' : 'python', \n        'city' : 'neva valley', 'interest' : 'rock music'}\n#lookup\nprint info['name']\nprint info['author']\nprint info['interest']\nif info.has_key('citty'):\n    print info['citty']\nelse:\n    print \"invalid key \"",
     "language": "python",
     "metadata": {},
     "outputs": [
      {
       "output_type": "stream",
       "stream": "stdout",
       "text": "guido\npython\nrock music\ninvalid key \n"
      }
     ],
     "prompt_number": 7
    },
    {
     "cell_type": "code",
     "collapsed": false,
     "input": "print info.has_key('citty')\nprint info.has_key('city')",
     "language": "python",
     "metadata": {},
     "outputs": [
      {
       "output_type": "stream",
       "stream": "stdout",
       "text": "False\nTrue\n"
      }
     ],
     "prompt_number": 8
    },
    {
     "cell_type": "code",
     "collapsed": false,
     "input": "info = {'name' : 'guido', 'author' : 'python', \n        'city' : 'neva valley', 'interest' : 'rock music'}\nif  info.has_key('namee'):\n     info['namee'] = 'larry'\nprint info",
     "language": "python",
     "metadata": {},
     "outputs": [
      {
       "output_type": "stream",
       "stream": "stdout",
       "text": "{'city': 'neva valley', 'name': 'guido', 'interest': 'rock music', 'author': 'python'}\n"
      }
     ],
     "prompt_number": 10
    },
    {
     "cell_type": "code",
     "collapsed": false,
     "input": "info = {'name' : 'guido', 'author' : 'python', \n        'city' : 'napa valley', 'interest' : 'rock music'}\ninfo['area'] = 'mountain view'\ninfo ['zip'] = 23124\nprint info",
     "language": "python",
     "metadata": {},
     "outputs": [
      {
       "output_type": "stream",
       "stream": "stdout",
       "text": "{'city': 'napa valley', 'name': 'guido', 'zip': 23124, 'area': 'mountain view', 'author': 'python', 'interest': 'rock music'}\n"
      }
     ],
     "prompt_number": 11
    },
    {
     "cell_type": "code",
     "collapsed": false,
     "input": "info = {'name' : 'guido', 'author' : 'python', \n        'city' : 'napa valley', 'interest' : 'rock music'}\ndel(info['interest'])\nprint info",
     "language": "python",
     "metadata": {},
     "outputs": [
      {
       "output_type": "stream",
       "stream": "stdout",
       "text": "{'city': 'napa valley', 'name': 'guido', 'author': 'python'}\n"
      }
     ],
     "prompt_number": 12
    },
    {
     "cell_type": "code",
     "collapsed": false,
     "input": "l = [1,2,3]\ndel(l[0])\nprint l\n",
     "language": "python",
     "metadata": {},
     "outputs": [
      {
       "output_type": "stream",
       "stream": "stdout",
       "text": "[2, 3]\n"
      }
     ],
     "prompt_number": 13
    },
    {
     "cell_type": "code",
     "collapsed": false,
     "input": "name = 'python'\n#del(name)\nprint name",
     "language": "python",
     "metadata": {},
     "outputs": [
      {
       "output_type": "stream",
       "stream": "stdout",
       "text": "python\n"
      }
     ],
     "prompt_number": 18
    },
    {
     "cell_type": "code",
     "collapsed": false,
     "input": "info = {'name' : 'guido', 'author' : 'python', \n        'city' : 'napa valley', 'interest' : 'rock music'}\n#del(info['interest'])\nval = info.pop('city')\nprint val\nprint info",
     "language": "python",
     "metadata": {},
     "outputs": [
      {
       "output_type": "stream",
       "stream": "stdout",
       "text": "napa valley\n{'name': 'guido', 'interest': 'rock music', 'author': 'python'}\n"
      }
     ],
     "prompt_number": 20
    },
    {
     "cell_type": "code",
     "collapsed": false,
     "input": "info = {'name' : 'guido', 'author' : 'python', \n        'city' : 'napa valley', 'interest' : 'rock music'}\nprint info.get('cityy', 'bangalore')\nprint info.get('area')\nprint info.get('area', 'mountain view')\nprint info",
     "language": "python",
     "metadata": {},
     "outputs": [
      {
       "output_type": "stream",
       "stream": "stdout",
       "text": "bangalore\nNone\nmountain view\n{'city': 'napa valley', 'name': 'guido', 'interest': 'rock music', 'author': 'python'}\n"
      }
     ],
     "prompt_number": 28
    },
    {
     "cell_type": "code",
     "collapsed": false,
     "input": "#iteration\nprint info.keys()\nprint info.values()\nprint info.items()",
     "language": "python",
     "metadata": {},
     "outputs": [
      {
       "output_type": "stream",
       "stream": "stdout",
       "text": "['city', 'name', 'interest', 'author']\n['napa valley', 'guido', 'rock music', 'python']\n[('city', 'napa valley'), ('name', 'guido'), ('interest', 'rock music'), ('author', 'python')]\n"
      }
     ],
     "prompt_number": 30
    },
    {
     "cell_type": "code",
     "collapsed": false,
     "input": "for k in info:\n    print \"%s : %s\" % (k, info.get(k))",
     "language": "python",
     "metadata": {},
     "outputs": [
      {
       "output_type": "stream",
       "stream": "stdout",
       "text": "city : napa valley\nname : guido\ninterest : rock music\nauthor : python\n"
      }
     ],
     "prompt_number": 32
    },
    {
     "cell_type": "code",
     "collapsed": false,
     "input": "keys = info.keys()\nkeys.sort()\n#for key in  keys:\n#    print \"%s : %s\" % (key, info.get(key))\nprint [(key, info.get(key)) for key in  keys]\nprint info.items()",
     "language": "python",
     "metadata": {},
     "outputs": [
      {
       "output_type": "stream",
       "stream": "stdout",
       "text": "[('author', 'python'), ('city', 'napa valley'), ('interest', 'rock music'), ('name', 'guido')]\n[('city', 'napa valley'), ('name', 'guido'), ('interest', 'rock music'), ('author', 'python')]\n"
      }
     ],
     "prompt_number": 38
    },
    {
     "cell_type": "code",
     "collapsed": false,
     "input": "keys = [  key for key in info ]\nprint keys\nprint info.keys()",
     "language": "python",
     "metadata": {},
     "outputs": [
      {
       "output_type": "stream",
       "stream": "stdout",
       "text": "['city', 'name', 'interest', 'author']\n['city', 'name', 'interest', 'author']\n"
      }
     ],
     "prompt_number": 37
    },
    {
     "cell_type": "code",
     "collapsed": false,
     "input": "print info\nprint info.values()\nprint [ info.get(k) for k in info]",
     "language": "python",
     "metadata": {},
     "outputs": [
      {
       "output_type": "stream",
       "stream": "stdout",
       "text": "{'city': 'napa valley', 'name': 'guido', 'interest': 'rock music', 'author': 'python'}\n['napa valley', 'guido', 'rock music', 'python']\n['napa valley', 'guido', 'rock music', 'python']\n"
      }
     ],
     "prompt_number": 47
    },
    {
     "cell_type": "code",
     "collapsed": false,
     "input": "#letter count : solution for the case study\ns = 'apple'\nlc = {}\nfor char in s:\n    lc[char] = lc.get(char, 0) + 1\n\nchars = lc.keys()\nchars.sort()\nfor char in chars:\n    print \"%s : %s\" % (char, lc[char])\n",
     "language": "python",
     "metadata": {},
     "outputs": [
      {
       "output_type": "stream",
       "stream": "stdout",
       "text": "a : 1\ne : 1\nl : 1\np : 2\n"
      }
     ],
     "prompt_number": 53
    },
    {
     "cell_type": "code",
     "collapsed": false,
     "input": "s = 'apple'\nlc = {}\nfor char in s:\n    if lc.has_key(char):\n        lc[char] += 1\n    else:\n        lc[char] = 1\n\nchars = lc.keys()\nchars.sort()\nfor char in chars:\n    print \"%s : %s\" % (char, lc[char])\n",
     "language": "python",
     "metadata": {},
     "outputs": [
      {
       "output_type": "stream",
       "stream": "stdout",
       "text": "a : 1\ne : 1\nl : 1\np : 2\n"
      }
     ],
     "prompt_number": 54
    },
    {
     "cell_type": "code",
     "collapsed": false,
     "input": "#letter count : solution for the case study\ns = 'apple'\nlc = {}\nfor char in s:\n    lc[char] = lc.get(char, 0) + 1\n\n'''\nfor char in lc:\n    print \"%s : %s\" % (char, lc[char])\nprint; print\n\nfor (k, v) in lc.items():\n    print \"%s : %s\" % (k, v)\n'''\nprint lc\nprint lc.keys()\nfor val in  lc.values():\n    print val",
     "language": "python",
     "metadata": {},
     "outputs": [
      {
       "output_type": "stream",
       "stream": "stdout",
       "text": "{'a': 1, 'p': 2, 'e': 1, 'l': 1}\n['a', 'p', 'e', 'l']\n1\n2\n1\n1\n"
      }
     ],
     "prompt_number": 64
    },
    {
     "cell_type": "heading",
     "level": 2,
     "metadata": {},
     "source": "tuple"
    },
    {
     "cell_type": "code",
     "collapsed": false,
     "input": "#tuple is immutable, readonly list\nt = ()\nprint type(t)\nprint len(t)\nt = (1, 'nelson', 12.12, 'manager')\nprint t[0]\nprint t[1]\nprint t[-2]\nprint t[-1]\n",
     "language": "python",
     "metadata": {},
     "outputs": [
      {
       "output_type": "stream",
       "stream": "stdout",
       "text": "<type 'tuple'>\n0\n1\nnelson\n12.12\nmanager\n"
      }
     ],
     "prompt_number": 68
    },
    {
     "cell_type": "code",
     "collapsed": false,
     "input": "t = (1, 'nelson', 12.12, 'manager')\n'''\nmulti line comment\n'''\nprint t[:-1]\nfor item in t:\n    print item\n",
     "language": "python",
     "metadata": {},
     "outputs": [
      {
       "output_type": "stream",
       "stream": "stdout",
       "text": "(1, 'nelson', 12.12)\n1\nnelson\n12.12\nmanager\n"
      }
     ],
     "prompt_number": 72
    },
    {
     "cell_type": "code",
     "collapsed": false,
     "input": "t = (1, 'nelson', 12.12, 'manager', 'male')\nt[0] = 'one'\nprint t[0]",
     "language": "python",
     "metadata": {},
     "outputs": [
      {
       "ename": "TypeError",
       "evalue": "'tuple' object does not support item assignment",
       "output_type": "pyerr",
       "traceback": [
        "\u001b[1;31m---------------------------------------------------------------------------\u001b[0m\n\u001b[1;31mTypeError\u001b[0m                                 Traceback (most recent call last)",
        "\u001b[1;32m<ipython-input-76-11108f7fa44b>\u001b[0m in \u001b[0;36m<module>\u001b[1;34m()\u001b[0m\n\u001b[0;32m      1\u001b[0m \u001b[0mt\u001b[0m \u001b[1;33m=\u001b[0m \u001b[1;33m(\u001b[0m\u001b[1;36m1\u001b[0m\u001b[1;33m,\u001b[0m \u001b[1;34m'nelson'\u001b[0m\u001b[1;33m,\u001b[0m \u001b[1;36m12.12\u001b[0m\u001b[1;33m,\u001b[0m \u001b[1;34m'manager'\u001b[0m\u001b[1;33m)\u001b[0m\u001b[1;33m\u001b[0m\u001b[0m\n\u001b[1;32m----> 2\u001b[1;33m \u001b[0mt\u001b[0m\u001b[1;33m[\u001b[0m\u001b[1;36m0\u001b[0m\u001b[1;33m]\u001b[0m \u001b[1;33m=\u001b[0m \u001b[1;34m'one'\u001b[0m\u001b[1;33m\u001b[0m\u001b[0m\n\u001b[0m\u001b[0;32m      3\u001b[0m \u001b[1;32mprint\u001b[0m \u001b[0mt\u001b[0m\u001b[1;33m[\u001b[0m\u001b[1;36m0\u001b[0m\u001b[1;33m]\u001b[0m\u001b[1;33m\u001b[0m\u001b[0m\n",
        "\u001b[1;31mTypeError\u001b[0m: 'tuple' object does not support item assignment"
       ]
      }
     ],
     "prompt_number": 76
    },
    {
     "cell_type": "code",
     "collapsed": false,
     "input": "#tuple assignment,   \nt = ('patric', 3, 'male')\n(name, age, gender) = t\nt[0] = 'xxxxx'\nprint t[0]",
     "language": "python",
     "metadata": {},
     "outputs": [
      {
       "ename": "TypeError",
       "evalue": "'tuple' object does not support item assignment",
       "output_type": "pyerr",
       "traceback": [
        "\u001b[1;31m---------------------------------------------------------------------------\u001b[0m\n\u001b[1;31mTypeError\u001b[0m                                 Traceback (most recent call last)",
        "\u001b[1;32m<ipython-input-95-62314cccfb3d>\u001b[0m in \u001b[0;36m<module>\u001b[1;34m()\u001b[0m\n\u001b[0;32m      2\u001b[0m \u001b[0mt\u001b[0m \u001b[1;33m=\u001b[0m \u001b[1;33m(\u001b[0m\u001b[1;34m'patric'\u001b[0m\u001b[1;33m,\u001b[0m \u001b[1;36m3\u001b[0m\u001b[1;33m,\u001b[0m \u001b[1;34m'male'\u001b[0m\u001b[1;33m)\u001b[0m\u001b[1;33m\u001b[0m\u001b[0m\n\u001b[0;32m      3\u001b[0m \u001b[1;33m(\u001b[0m\u001b[0mname\u001b[0m\u001b[1;33m,\u001b[0m \u001b[0mage\u001b[0m\u001b[1;33m,\u001b[0m \u001b[0mgender\u001b[0m\u001b[1;33m)\u001b[0m \u001b[1;33m=\u001b[0m \u001b[0mt\u001b[0m\u001b[1;33m\u001b[0m\u001b[0m\n\u001b[1;32m----> 4\u001b[1;33m \u001b[0mt\u001b[0m\u001b[1;33m[\u001b[0m\u001b[1;36m0\u001b[0m\u001b[1;33m]\u001b[0m \u001b[1;33m=\u001b[0m \u001b[1;34m'xxxxx'\u001b[0m\u001b[1;33m\u001b[0m\u001b[0m\n\u001b[0m\u001b[0;32m      5\u001b[0m \u001b[1;32mprint\u001b[0m \u001b[0mt\u001b[0m\u001b[1;33m[\u001b[0m\u001b[1;36m0\u001b[0m\u001b[1;33m]\u001b[0m\u001b[1;33m\u001b[0m\u001b[0m\n",
        "\u001b[1;31mTypeError\u001b[0m: 'tuple' object does not support item assignment"
       ]
      }
     ],
     "prompt_number": 95
    },
    {
     "cell_type": "code",
     "collapsed": false,
     "input": "a = 4\nb = 'peter'\n(a, b) = (10, 20)\n(a, b) = (b, a)   #(20, 10)\nprint a, b",
     "language": "python",
     "metadata": {},
     "outputs": [
      {
       "output_type": "stream",
       "stream": "stdout",
       "text": "20 10\n"
      }
     ],
     "prompt_number": 99
    },
    {
     "cell_type": "code",
     "collapsed": false,
     "input": "print info.items()\nfor (k, v) in info.items():\n    print k, ' -> ',v",
     "language": "python",
     "metadata": {},
     "outputs": [
      {
       "output_type": "stream",
       "stream": "stdout",
       "text": "[('city', 'napa valley'), ('name', 'guido'), ('interest', 'rock music'), ('author', 'python')]\ncity  ->  napa valley\nname  ->  guido\ninterest  ->  rock music\nauthor  ->  python\n"
      }
     ],
     "prompt_number": 103
    },
    {
     "cell_type": "code",
     "collapsed": false,
     "input": "s = 'root:x:0:0:root:/root:/bin/bash'\n(login, passwd, uid, gid, gecos, dir, shell) = s.split(':')\n\nprint login\nprint shell",
     "language": "python",
     "metadata": {},
     "outputs": [
      {
       "output_type": "stream",
       "stream": "stdout",
       "text": "root\n/bin/bash\n"
      }
     ],
     "prompt_number": 105
    },
    {
     "cell_type": "code",
     "collapsed": false,
     "input": "s = 'root:x:0:0:root:/root:/bin/bash'\nl = s.split(':')\nll =  l + l\nprint ll\nprint \nuniq = []\nfor item in ll:\n    if item not in uniq:\n        uniq.append(item)\nprint uniq\nprint\nu =  list(set(ll))\nprint u\nprint type(u)\n\n",
     "language": "python",
     "metadata": {},
     "outputs": [
      {
       "output_type": "stream",
       "stream": "stdout",
       "text": "['root', 'x', '0', '0', 'root', '/root', '/bin/bash', 'root', 'x', '0', '0', 'root', '/root', '/bin/bash']\n\n['root', 'x', '0', '/root', '/bin/bash']\n\n['x', '/root', 'root', '/bin/bash', '0']\n<type 'list'>\n"
      }
     ],
     "prompt_number": 120
    },
    {
     "cell_type": "code",
     "collapsed": false,
     "input": "#membership test operator\n# in\n# not in\ns = 'peter'\nprint 'e' in s\nprint 'z' not in s\n\nl = [1, 3, 4, 6, 8]\nprint 0 in l\nprint 0 not in l",
     "language": "python",
     "metadata": {},
     "outputs": [
      {
       "output_type": "stream",
       "stream": "stdout",
       "text": "True\nTrue\nFalse\nTrue\n"
      }
     ],
     "prompt_number": 113
    },
    {
     "cell_type": "heading",
     "level": 3,
     "metadata": {},
     "source": "set"
    },
    {
     "cell_type": "code",
     "collapsed": false,
     "input": "whole = set(range(10))\neven = set(range(2, 10, 2))\nodd = set(range(1, 10, 2))\nprint whole\nprint even\nprint odd\n#print even.union(odd)\n#print even.intersection(odd)\nprint whole.difference(odd)\nprint whole.issuperset(odd)",
     "language": "python",
     "metadata": {},
     "outputs": [
      {
       "output_type": "stream",
       "stream": "stdout",
       "text": "set([0, 1, 2, 3, 4, 5, 6, 7, 8, 9])\nset([8, 2, 4, 6])\nset([1, 3, 9, 5, 7])\nset([0, 8, 2, 4, 6])\nTrue\n"
      }
     ],
     "prompt_number": 136
    },
    {
     "cell_type": "code",
     "collapsed": false,
     "input": "print set([])",
     "language": "python",
     "metadata": {},
     "outputs": [
      {
       "output_type": "stream",
       "stream": "stdout",
       "text": "set([])\n"
      }
     ],
     "prompt_number": 138
    },
    {
     "cell_type": "heading",
     "level": 3,
     "metadata": {},
     "source": "#bool"
    },
    {
     "cell_type": "code",
     "collapsed": false,
     "input": "print True\nprint False",
     "language": "python",
     "metadata": {},
     "outputs": [
      {
       "output_type": "stream",
       "stream": "stdout",
       "text": "True\nFalse\n"
      }
     ],
     "prompt_number": 139
    },
    {
     "cell_type": "code",
     "collapsed": false,
     "input": "print bool('')\nprint bool(0)\nprint bool(0.0)\nprint bool([])\nprint bool(())\nprint bool({})\nprint bool(set([]))\nprint bool(None)",
     "language": "python",
     "metadata": {},
     "outputs": [
      {
       "output_type": "stream",
       "stream": "stdout",
       "text": "False\nFalse\nFalse\nFalse\nFalse\nFalse\nFalse\nFalse\n"
      }
     ],
     "prompt_number": 141
    },
    {
     "cell_type": "code",
     "collapsed": false,
     "input": "var = None",
     "language": "python",
     "metadata": {},
     "outputs": [],
     "prompt_number": 143
    },
    {
     "cell_type": "heading",
     "level": 3,
     "metadata": {},
     "source": "compound DS"
    },
    {
     "cell_type": "code",
     "collapsed": false,
     "input": "info = {'name' : 'cameron', 'gender' : 'male', \n        'occupation' : ['director', 'producer', 'writer'],\n        'interest' : {\n            'read' : ['fiction', 'sci-fi', 'thriller'], \n            'cook' : ['mexican', 'spanian', 'indian'],\n            'others' : 'sleep'\n        } \n   }\nprint info\nprint\nfrom pprint import pprint\npprint(info)",
     "language": "python",
     "metadata": {},
     "outputs": [
      {
       "output_type": "stream",
       "stream": "stdout",
       "text": "{'gender': 'male', 'name': 'cameron', 'interest': {'read': ['fiction', 'sci-fi', 'thriller'], 'cook': ['mexican', 'spanian', 'indian'], 'others': 'sleep'}, 'occupation': ['director', 'producer', 'writer']}\n\n{'gender': 'male',\n 'interest': {'cook': ['mexican', 'spanian', 'indian'],\n              'others': 'sleep',\n              'read': ['fiction', 'sci-fi', 'thriller']},\n 'name': 'cameron',\n 'occupation': ['director', 'producer', 'writer']}\n"
      }
     ],
     "prompt_number": 148
    },
    {
     "cell_type": "code",
     "collapsed": false,
     "input": "info = {'name' : 'cameron', 'gender' : 'male', \n        'occupation' : ['director', 'producer', 'writer'],\n        'interest' : {\n            'read' : ['fiction', 'sci-fi', 'thriller'], \n            'cook' : ['mexican', 'spanian', 'indian'],\n            'others' : 'sleep'\n        } \n   }\nfor detail in info:\n    if  info[detail].__class__.__name__ == 'list':\n        print \"%s :\" % detail\n        for occupation in info[detail]:\n            print \"\\t%s\" % occupation\n    elif info[detail].__class__.__name__ == 'dict':\n        print \"%s :\" % detail\n        interest = info[detail]\n        for key in interest:\n            if interest[key].__class__.__name__ == 'list':\n                print \"\\t%s :\" % key\n                for inter in interest[key]:\n                    print \"\\t\\t%s\" % inter\n            else:\n                print \"\\t%s : %s\" % (key, interest[key])\n    else:\n        print \"%s : %s\" % (detail, info[detail])",
     "language": "python",
     "metadata": {},
     "outputs": [
      {
       "output_type": "stream",
       "stream": "stdout",
       "text": "gender : male\nname : cameron\ninterest :\n\tread :\n\t\tfiction\n\t\tsci-fi\n\t\tthriller\n\tcook :\n\t\tmexican\n\t\tspanian\n\t\tindian\n\tothers : sleep\noccupation :\n\tdirector\n\tproducer\n\twriter\n"
      }
     ],
     "prompt_number": 162
    },
    {
     "cell_type": "code",
     "collapsed": false,
     "input": "l  = {}\nprint l.__class__.__name__\nif 1==1:\n    pass  #dummy code block\nelse:\n    print 1\n",
     "language": "python",
     "metadata": {},
     "outputs": [
      {
       "output_type": "stream",
       "stream": "stdout",
       "text": "dict\n"
      }
     ],
     "prompt_number": 163
    },
    {
     "cell_type": "code",
     "collapsed": false,
     "input": "t = (100,)\nn = ('python',)\nprint t\nprint n",
     "language": "python",
     "metadata": {},
     "outputs": [
      {
       "output_type": "stream",
       "stream": "stdout",
       "text": "(100,)\n('python',)\n"
      }
     ],
     "prompt_number": 165
    },
    {
     "cell_type": "heading",
     "level": 2,
     "metadata": {},
     "source": "regex"
    },
    {
     "cell_type": "code",
     "collapsed": false,
     "input": "#match() will match if matches happens at the begin of the string\nimport re\ns = 'the perl and the python scripting'\nprint re.match(r'The', s, flags=re.I)",
     "language": "python",
     "metadata": {},
     "outputs": [
      {
       "output_type": "stream",
       "stream": "stdout",
       "text": "<_sre.SRE_Match object at 0x7fc4aa815cc8>\n"
      }
     ],
     "prompt_number": 174
    },
    {
     "cell_type": "code",
     "collapsed": false,
     "input": "import re\ns = 'python'\nm = re.search(r'tho', s, flags=re.I)\nif m:\n    print \"we got a match\"\n    print \"started:%s\" % m.start()\n    print \"ended:%s\" % m.end()\n    print \"start, end :\", m.span()\n    print \"matched : %s\" % m.group()\n    print \"before : %s\" % s[:m.start()]\n    print \"after : %s\" % s[m.end():]\nelse:\n    print \"match not found\"",
     "language": "python",
     "metadata": {},
     "outputs": [
      {
       "output_type": "stream",
       "stream": "stdout",
       "text": "we got a match\nstarted:2\nended:5\nstart, end : (2, 5)\nmatched : tho\nbefore : py\nafter : n\n\t\n"
      }
     ],
     "prompt_number": 195
    },
    {
     "cell_type": "code",
     "collapsed": false,
     "input": "import re\ns = 'the perl and the perl language and the perl scripts'\ncount = 0\ndef replace(obj):\n   #global count\n   #count += 1 \n   #return 'python' if count == 2 else 'perl'\n   return obj.group().upper()\n\nprint re.sub(r'perL', replace, s,  flags=re.I)\n",
     "language": "python",
     "metadata": {},
     "outputs": [
      {
       "output_type": "stream",
       "stream": "stdout",
       "text": "the PERL and the PERL language and the PERL scripts\n"
      }
     ],
     "prompt_number": 215
    },
    {
     "cell_type": "code",
     "collapsed": false,
     "input": "s = 'lp,x:4;7-lp`/var/spool/lpd~/sbin/nologin'\nimport re\nfor item in re.split(r'[`,:;\\-~]', s):\n    print item\n",
     "language": "python",
     "metadata": {},
     "outputs": [
      {
       "output_type": "stream",
       "stream": "stdout",
       "text": "lp\nx\n4\n7\nlp\n/var/spool/lpd\n/sbin/nologin\n"
      }
     ],
     "prompt_number": 220
    },
    {
     "cell_type": "markdown",
     "metadata": {},
     "source": "Functions"
    },
    {
     "cell_type": "code",
     "collapsed": false,
     "input": "def power(x, n):\n    return x ** n\n\nres = power(2, 3)\nprint res\nprint power(3, 3)",
     "language": "python",
     "metadata": {},
     "outputs": [
      {
       "output_type": "stream",
       "stream": "stdout",
       "text": "8\n27\n"
      }
     ],
     "prompt_number": 221
    },
    {
     "cell_type": "code",
     "collapsed": false,
     "input": "def swapme(a, b):\n    return (b, a)\n\nprint swapme(10, 20)\n\n(x , y) =  ('allen', 'steve')\n(x, y) = swapme(x, y)\nprint (x, y)",
     "language": "python",
     "metadata": {},
     "outputs": [
      {
       "output_type": "stream",
       "stream": "stdout",
       "text": "(20, 10)\n('steve', 'allen')\n"
      }
     ],
     "prompt_number": 226
    },
    {
     "cell_type": "code",
     "collapsed": false,
     "input": "l = range(5)\nprint map(bin, l)\n\ndef mymap(func, seq):\n    return [ func(item) for item in seq ]\n\nprint mymap(bin, l)",
     "language": "python",
     "metadata": {},
     "outputs": [
      {
       "output_type": "stream",
       "stream": "stdout",
       "text": "['0b0', '0b1', '0b10', '0b11', '0b100']\n['0b0', '0b1', '0b10', '0b11', '0b100']\n"
      }
     ],
     "prompt_number": 230
    },
    {
     "cell_type": "code",
     "collapsed": false,
     "input": "#default arguments\n\ndef power(x, n=0):\n    return x ** n\n\nprint power(3, 3)\nprint power(3)",
     "language": "python",
     "metadata": {},
     "outputs": [
      {
       "output_type": "stream",
       "stream": "stdout",
       "text": "27\n1\n"
      }
     ],
     "prompt_number": 232
    },
    {
     "cell_type": "code",
     "collapsed": false,
     "input": "#variable length arguments function \n\ndef demo(*args):\n    print args\n\ndemo()\n\ndemo('peter', 'male', 3)\ndemo(1,2,3,4,5)\ndemo(100)\nl = [1,6, 13]\ndemo(l)\ndemo(*l)\nt = ('a', 'zero', 99)\ndemo(t)\ndemo(*t)",
     "language": "python",
     "metadata": {},
     "outputs": [
      {
       "output_type": "stream",
       "stream": "stdout",
       "text": "()\n('peter', 'male', 3)\n(1, 2, 3, 4, 5)\n(100,)\n([1, 6, 13],)\n(1, 6, 13)\n(('a', 'zero', 99),)\n('a', 'zero', 99)\n"
      }
     ],
     "prompt_number": 238
    },
    {
     "cell_type": "code",
     "collapsed": false,
     "input": "print sum(())\nprint sum((1,2,3,4,5))",
     "language": "python",
     "metadata": {},
     "outputs": [
      {
       "output_type": "stream",
       "stream": "stdout",
       "text": "0\n15\n"
      }
     ],
     "prompt_number": 243
    },
    {
     "cell_type": "code",
     "collapsed": false,
     "input": "print '/etc/passwd'.center(60, '-')\nprint \nprint 'content comes here'\nprint '-'.center(60, '-')",
     "language": "python",
     "metadata": {},
     "outputs": [
      {
       "output_type": "stream",
       "stream": "stdout",
       "text": "------------------------/etc/passwd-------------------------\n\ncontent comes here\n------------------------------------------------------------\n"
      }
     ],
     "prompt_number": 246
    }
   ],
   "metadata": {}
  }
 ]
}