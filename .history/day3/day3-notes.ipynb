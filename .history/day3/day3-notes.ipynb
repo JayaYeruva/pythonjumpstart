{
 "metadata": {
  "name": "day3-notes"
 },
 "nbformat": 3,
 "nbformat_minor": 0,
 "worksheets": [
  {
   "cells": [
    {
     "cell_type": "heading",
     "level": 1,
     "metadata": {},
     "source": [
      "#keyword argument functions"
     ]
    },
    {
     "cell_type": "code",
     "collapsed": false,
     "input": [
      "def demo(**args):\n",
      "    print args\n",
      "    \n",
      "demo()\n",
      "demo(name='peter', gender='male', race='asian')\n",
      "d = {'gender': 'female', 'race': 'red-indian', 'name': 'jane'}\n",
      "demo(**d)"
     ],
     "language": "python",
     "metadata": {},
     "outputs": [
      {
       "output_type": "stream",
       "stream": "stdout",
       "text": [
        "{}\n",
        "{'gender': 'male', 'race': 'asian', 'name': 'peter'}\n",
        "{'gender': 'female', 'race': 'red-indian', 'name': 'jane'}\n"
       ]
      }
     ],
     "prompt_number": 2
    },
    {
     "cell_type": "code",
     "collapsed": false,
     "input": [
      "# headntail(filename='/etc/passwd')      #head /etc/passwd\n",
      "# headntail(filename='/etc/passwd', count=5)      #head -5 /etc/passwd\n",
      "# headntail(filename='/etc/passwd', count=5, order='tail')      \n",
      "        #tail -5 /etc/passwd\n",
      "# headntail(filename='/etc/passwd',order='head')      \n",
      "        #head /etc/passwd"
     ],
     "language": "python",
     "metadata": {},
     "outputs": [],
     "prompt_number": 3
    },
    {
     "cell_type": "code",
     "collapsed": false,
     "input": [
      "from pprint import pprint\n",
      "#pprint(open('/etc/passwd').readlines())"
     ],
     "language": "python",
     "metadata": {},
     "outputs": [],
     "prompt_number": 7
    },
    {
     "cell_type": "code",
     "collapsed": false,
     "input": [
      "def headntail(**param):\n",
      "    lines = ''\n",
      "    content = open(param.get('filename')).readlines()\n",
      "    count = param.get('count', 10)\n",
      "    order = param.get('order', 'head')\n",
      "    if order == 'head':\n",
      "        lines = content[:count]\n",
      "    elif order == 'tail':\n",
      "        lines = content[-count:]\n",
      "    return ''.join(lines)\n",
      "\n",
      "print headntail(filename='/etc/passwd', count=2, order='tail')\n"
     ],
     "language": "python",
     "metadata": {},
     "outputs": [
      {
       "output_type": "stream",
       "stream": "stdout",
       "text": [
        "nginx:x:985:981:Nginx web server:/var/lib/nginx:/sbin/nologin\n",
        "memcached:x:984:980:Memcached daemon:/run/memcached:/sbin/nologin\n",
        "\n"
       ]
      }
     ],
     "prompt_number": 16
    },
    {
     "cell_type": "code",
     "collapsed": false,
     "input": [
      "#all in one functions\n",
      "def demo(fname, *args, **kwargs):\n",
      "    print fname\n",
      "    print args\n",
      "    print kwargs\n",
      "    \n",
      "demo('/etc/resolv.conf', 'aix', 'bsd', 'hpux', unix='sco', linux='fedora')"
     ],
     "language": "python",
     "metadata": {},
     "outputs": [
      {
       "output_type": "stream",
       "stream": "stdout",
       "text": [
        "/etc/resolv.conf\n",
        "('aix', 'bsd', 'hpux')\n",
        "{'unix': 'sco', 'linux': 'fedora'}\n"
       ]
      }
     ],
     "prompt_number": 21
    },
    {
     "cell_type": "code",
     "collapsed": false,
     "input": [
      "def headntail(filename, **param):\n",
      "    lines = ''\n",
      "    content = open(filename).readlines()\n",
      "    count = param.get('count', 10)\n",
      "    order = param.get('order', 'head')\n",
      "    if order == 'head':\n",
      "        lines = content[:count]\n",
      "    elif order == 'tail':\n",
      "        lines = content[-count:]\n",
      "    return ''.join(lines)\n",
      "\n",
      "print headntail('/etc/passwd', count=2, order='tail')\n"
     ],
     "language": "python",
     "metadata": {},
     "outputs": [
      {
       "output_type": "stream",
       "stream": "stdout",
       "text": [
        "nginx:x:985:981:Nginx web server:/var/lib/nginx:/sbin/nologin\n",
        "memcached:x:984:980:Memcached daemon:/run/memcached:/sbin/nologin\n",
        "\n"
       ]
      }
     ],
     "prompt_number": 22
    },
    {
     "cell_type": "heading",
     "level": 4,
     "metadata": {},
     "source": [
      "#functions scope"
     ]
    },
    {
     "cell_type": "code",
     "collapsed": false,
     "input": [
      "#LEGB\n",
      "#L - Local \n",
      "#E - Embedded\n",
      "#G - Global\n",
      "#B - Builtins"
     ],
     "language": "python",
     "metadata": {},
     "outputs": [],
     "prompt_number": 25
    },
    {
     "cell_type": "code",
     "collapsed": false,
     "input": [
      "#local scope\n"
     ],
     "language": "python",
     "metadata": {},
     "outputs": [],
     "prompt_number": 26
    },
    {
     "cell_type": "heading",
     "level": 1,
     "metadata": {},
     "source": [
      "OOPS"
     ]
    },
    {
     "cell_type": "code",
     "collapsed": false,
     "input": [
      "class Demo(object):\n",
      "    def __init__(self, value):\n",
      "        self.value = value\n",
      "    \n",
      "    def getValue(self):\n",
      "        return self.value"
     ],
     "language": "python",
     "metadata": {},
     "outputs": [],
     "prompt_number": 28
    },
    {
     "cell_type": "code",
     "collapsed": false,
     "input": [
      "class Date(object):\n",
      "    def __init__(self, day=None, month=None, year=None):\n",
      "        self.day = day\n",
      "        self.month = month\n",
      "        self.year = year\n",
      "    \n",
      "    def getDate(self):\n",
      "        return \"%s-%s-%s\" % (self.month, self.day, self.year)\n",
      "\n",
      "d = Date(17, 'Jan', 1982)\n",
      "print d.getDate()"
     ],
     "language": "python",
     "metadata": {},
     "outputs": [
      {
       "output_type": "stream",
       "stream": "stdout",
       "text": [
        "Jan-17-1982\n"
       ]
      }
     ],
     "prompt_number": 37
    },
    {
     "cell_type": "code",
     "collapsed": false,
     "input": [
      "class Date(object):\n",
      "    def __init__(self, day=None, month=None, year=None):\n",
      "        self.__day = day   #private start's with __\n",
      "        self.__month = month\n",
      "        self.__year = year\n",
      "    \n",
      "    def __getDate(self):\n",
      "        return \"%s-%s-%s\" % (self.__month, self.__day, self.__year)\n",
      "\n",
      "d = Date(17, 'Jan', 1982)\n",
      "print d.__getDate()\n"
     ],
     "language": "python",
     "metadata": {},
     "outputs": [
      {
       "ename": "AttributeError",
       "evalue": "'Date' object has no attribute '__day'",
       "output_type": "pyerr",
       "traceback": [
        "\u001b[1;31m---------------------------------------------------------------------------\u001b[0m\n\u001b[1;31mAttributeError\u001b[0m                            Traceback (most recent call last)",
        "\u001b[1;32m<ipython-input-39-82c2bdcd2499>\u001b[0m in \u001b[0;36m<module>\u001b[1;34m()\u001b[0m\n\u001b[0;32m     10\u001b[0m \u001b[0md\u001b[0m \u001b[1;33m=\u001b[0m \u001b[0mDate\u001b[0m\u001b[1;33m(\u001b[0m\u001b[1;36m17\u001b[0m\u001b[1;33m,\u001b[0m \u001b[1;34m'Jan'\u001b[0m\u001b[1;33m,\u001b[0m \u001b[1;36m1982\u001b[0m\u001b[1;33m)\u001b[0m\u001b[1;33m\u001b[0m\u001b[0m\n\u001b[0;32m     11\u001b[0m \u001b[1;32mprint\u001b[0m \u001b[0md\u001b[0m\u001b[1;33m.\u001b[0m\u001b[0mgetDate\u001b[0m\u001b[1;33m(\u001b[0m\u001b[1;33m)\u001b[0m\u001b[1;33m\u001b[0m\u001b[0m\n\u001b[1;32m---> 12\u001b[1;33m \u001b[1;32mprint\u001b[0m \u001b[0md\u001b[0m\u001b[1;33m.\u001b[0m\u001b[0m__day\u001b[0m\u001b[1;33m\u001b[0m\u001b[0m\n\u001b[0m",
        "\u001b[1;31mAttributeError\u001b[0m: 'Date' object has no attribute '__day'"
       ]
      },
      {
       "output_type": "stream",
       "stream": "stdout",
       "text": [
        "Jan-17-1982\n"
       ]
      }
     ],
     "prompt_number": 39
    }
   ],
   "metadata": {}
  }
 ]
}